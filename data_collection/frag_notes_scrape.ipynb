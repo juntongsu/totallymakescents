{
 "cells": [
  {
   "cell_type": "markdown",
   "id": "d5d21ec8",
   "metadata": {},
   "source": [
    "In this notebook, we scrape the data about perfume notes from Fragrantica (https://www.fragrantica.com/notes/). \n",
    "\n",
    "The final output is a file containing all notes, image links, what fragrance group they belong to (e.g. all citrus notes are in a larger CITRUS SMELLS group), as well as a descriptions for each fragrance group.\n",
    "\n"
   ]
  },
  {
   "cell_type": "code",
   "execution_count": null,
   "id": "serious-phone",
   "metadata": {},
   "outputs": [],
   "source": [
    "from selenium import webdriver                  # for browser automation\n",
    "from splinter import Browser\n",
    "from webdriver_manager.firefox import GeckoDriverManager\n",
    "from selenium.webdriver.firefox.service import Service\n",
    "from selenium.webdriver.common.keys import Keys # for button presses\n",
    "from selenium.webdriver.common.by import By     # for finding elements\n",
    "\n",
    "import requests\n",
    "import pandas as pd\n",
    "from bs4 import BeautifulSoup\n"
   ]
  },
  {
   "cell_type": "code",
   "execution_count": 3,
   "id": "fba08b43",
   "metadata": {},
   "outputs": [],
   "source": [
    "service = Service(GeckoDriverManager().install())\n",
    "\n",
    "with Browser(\"firefox\", service=service, headless=False) as browser:\n",
    "    browser.visit(\"https://www.fragrantica.com/notes/\")\n",
    "    html = browser.html\n",
    "    soup = BeautifulSoup(html, \"html.parser\")"
   ]
  },
  {
   "cell_type": "code",
   "execution_count": 9,
   "id": "180e8acc",
   "metadata": {},
   "outputs": [],
   "source": [
    "notes = []\n",
    "\n",
    "for i in range(1,14):\n",
    "    group_name = soup.find('div',id=f'groupnotes_group_{str(i).zfill(2)}_title').h2.text.strip().lower()\n",
    "    description = soup.find('div', id=f'descnotes_group_{str(i).zfill(2)}_title').text.strip()\n",
    "    \n",
    "    grid = soup.find_all('div',class_='grid-x grid-margin-y grid-margin-x')[i-1]\n",
    "\n",
    "    for note in grid:\n",
    "        note_name = note.img['alt'].lower()\n",
    "        note_img = note.img['src']\n",
    "        notes.append((group_name,description,note_name,note_img))\n"
   ]
  },
  {
   "cell_type": "code",
   "execution_count": 10,
   "id": "f4c912e9",
   "metadata": {},
   "outputs": [
    {
     "data": {
      "text/html": [
       "<div>\n",
       "<style scoped>\n",
       "    .dataframe tbody tr th:only-of-type {\n",
       "        vertical-align: middle;\n",
       "    }\n",
       "\n",
       "    .dataframe tbody tr th {\n",
       "        vertical-align: top;\n",
       "    }\n",
       "\n",
       "    .dataframe thead th {\n",
       "        text-align: right;\n",
       "    }\n",
       "</style>\n",
       "<table border=\"1\" class=\"dataframe\">\n",
       "  <thead>\n",
       "    <tr style=\"text-align: right;\">\n",
       "      <th></th>\n",
       "      <th>note_group</th>\n",
       "      <th>group_description</th>\n",
       "      <th>note</th>\n",
       "      <th>note_img</th>\n",
       "    </tr>\n",
       "  </thead>\n",
       "  <tbody>\n",
       "    <tr>\n",
       "      <th>149</th>\n",
       "      <td>fruits, vegetables and nuts</td>\n",
       "      <td>Fruity notes beyond citrus (which form a class...</td>\n",
       "      <td>hog plum</td>\n",
       "      <td>https://fimgs.net/mdimg/sastojci/m.782.jpg?173...</td>\n",
       "    </tr>\n",
       "    <tr>\n",
       "      <th>711</th>\n",
       "      <td>greens, herbs and fougeres</td>\n",
       "      <td>By the term \"green\" we refer to notes of snapp...</td>\n",
       "      <td>ivy</td>\n",
       "      <td>https://fimgs.net/mdimg/sastojci/m.192.jpg?173...</td>\n",
       "    </tr>\n",
       "    <tr>\n",
       "      <th>224</th>\n",
       "      <td>fruits, vegetables and nuts</td>\n",
       "      <td>Fruity notes beyond citrus (which form a class...</td>\n",
       "      <td>shea butter</td>\n",
       "      <td>https://fimgs.net/mdimg/sastojci/m.1142.jpg?17...</td>\n",
       "    </tr>\n",
       "    <tr>\n",
       "      <th>1318</th>\n",
       "      <td>beverages</td>\n",
       "      <td>Fragrances often recreate the scent of popular...</td>\n",
       "      <td>blackcurrant juice</td>\n",
       "      <td>https://fimgs.net/mdimg/sastojci/m.1750.jpg?17...</td>\n",
       "    </tr>\n",
       "    <tr>\n",
       "      <th>69</th>\n",
       "      <td>fruits, vegetables and nuts</td>\n",
       "      <td>Fruity notes beyond citrus (which form a class...</td>\n",
       "      <td>bearberry</td>\n",
       "      <td>https://fimgs.net/mdimg/sastojci/m.344.jpg?173...</td>\n",
       "    </tr>\n",
       "  </tbody>\n",
       "</table>\n",
       "</div>"
      ],
      "text/plain": [
       "                       note_group  \\\n",
       "149   fruits, vegetables and nuts   \n",
       "711    greens, herbs and fougeres   \n",
       "224   fruits, vegetables and nuts   \n",
       "1318                    beverages   \n",
       "69    fruits, vegetables and nuts   \n",
       "\n",
       "                                      group_description                note  \\\n",
       "149   Fruity notes beyond citrus (which form a class...            hog plum   \n",
       "711   By the term \"green\" we refer to notes of snapp...                 ivy   \n",
       "224   Fruity notes beyond citrus (which form a class...         shea butter   \n",
       "1318  Fragrances often recreate the scent of popular...  blackcurrant juice   \n",
       "69    Fruity notes beyond citrus (which form a class...           bearberry   \n",
       "\n",
       "                                               note_img  \n",
       "149   https://fimgs.net/mdimg/sastojci/m.782.jpg?173...  \n",
       "711   https://fimgs.net/mdimg/sastojci/m.192.jpg?173...  \n",
       "224   https://fimgs.net/mdimg/sastojci/m.1142.jpg?17...  \n",
       "1318  https://fimgs.net/mdimg/sastojci/m.1750.jpg?17...  \n",
       "69    https://fimgs.net/mdimg/sastojci/m.344.jpg?173...  "
      ]
     },
     "execution_count": 10,
     "metadata": {},
     "output_type": "execute_result"
    }
   ],
   "source": [
    "notes_df = pd.DataFrame(data=notes, columns=['note_group','group_description','note','note_img'])\n",
    "notes_df.sample(5)"
   ]
  },
  {
   "cell_type": "code",
   "execution_count": 11,
   "id": "august-yorkshire",
   "metadata": {},
   "outputs": [],
   "source": [
    "notes_df.to_csv(\"notes.csv\")"
   ]
  }
 ],
 "metadata": {
  "kernelspec": {
   "display_name": "web_scrape",
   "language": "python",
   "name": "python3"
  },
  "language_info": {
   "codemirror_mode": {
    "name": "ipython",
    "version": 3
   },
   "file_extension": ".py",
   "mimetype": "text/x-python",
   "name": "python",
   "nbconvert_exporter": "python",
   "pygments_lexer": "ipython3",
   "version": "3.11.13"
  }
 },
 "nbformat": 4,
 "nbformat_minor": 5
}
