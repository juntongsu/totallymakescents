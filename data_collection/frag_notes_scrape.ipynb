{
 "cells": [
  {
   "cell_type": "markdown",
   "id": "b691ccb5",
   "metadata": {},
   "source": [
    "# Scraping Fragrantica Notes"
   ]
  },
  {
   "cell_type": "markdown",
   "id": "d5d21ec8",
   "metadata": {},
   "source": [
    "Here, we scrape the data about perfume notes from Fragrantica (https://www.fragrantica.com/notes/). \n",
    "\n",
    "The final output is a file containing all notes, image links, what fragrance group they belong to (e.g. all citrus notes are in a larger CITRUS SMELLS group), as well as a descriptions for each fragrance group.\n",
    "\n"
   ]
  },
  {
   "cell_type": "code",
   "execution_count": 3,
   "id": "serious-phone",
   "metadata": {},
   "outputs": [],
   "source": [
    "from selenium import webdriver                  # for browser automation\n",
    "from splinter import Browser\n",
    "from webdriver_manager.firefox import GeckoDriverManager\n",
    "from selenium.webdriver.firefox.service import Service\n",
    "from selenium.webdriver.common.keys import Keys # for button presses\n",
    "from selenium.webdriver.common.by import By     # for finding elements\n",
    "\n",
    "import requests\n",
    "import pandas as pd\n",
    "from bs4 import BeautifulSoup"
   ]
  },
  {
   "cell_type": "code",
   "execution_count": 3,
   "id": "fba08b43",
   "metadata": {},
   "outputs": [],
   "source": [
    "service = Service(GeckoDriverManager().install())\n",
    "\n",
    "with Browser(\"firefox\", service=service, headless=False) as browser:\n",
    "    browser.visit(\"https://www.fragrantica.com/notes/\")\n",
    "    html = browser.html\n",
    "    soup = BeautifulSoup(html, \"html.parser\")"
   ]
  },
  {
   "cell_type": "code",
   "execution_count": 9,
   "id": "180e8acc",
   "metadata": {},
   "outputs": [],
   "source": [
    "notes = []\n",
    "\n",
    "for i in range(1,14):\n",
    "    group_name = soup.find('div',id=f'groupnotes_group_{str(i).zfill(2)}_title').h2.text.strip().lower()\n",
    "    description = soup.find('div', id=f'descnotes_group_{str(i).zfill(2)}_title').text.strip()\n",
    "    \n",
    "    grid = soup.find_all('div',class_='grid-x grid-margin-y grid-margin-x')[i-1]\n",
    "\n",
    "    for note in grid:\n",
    "        note_name = note.img['alt'].lower()\n",
    "        note_img = note.img['src']\n",
    "        notes.append((group_name,description,note_name,note_img))\n"
   ]
  },
  {
   "cell_type": "code",
   "execution_count": 10,
   "id": "f4c912e9",
   "metadata": {},
   "outputs": [
    {
     "data": {
      "text/html": [
       "<div>\n",
       "<style scoped>\n",
       "    .dataframe tbody tr th:only-of-type {\n",
       "        vertical-align: middle;\n",
       "    }\n",
       "\n",
       "    .dataframe tbody tr th {\n",
       "        vertical-align: top;\n",
       "    }\n",
       "\n",
       "    .dataframe thead th {\n",
       "        text-align: right;\n",
       "    }\n",
       "</style>\n",
       "<table border=\"1\" class=\"dataframe\">\n",
       "  <thead>\n",
       "    <tr style=\"text-align: right;\">\n",
       "      <th></th>\n",
       "      <th>note_group</th>\n",
       "      <th>group_description</th>\n",
       "      <th>note</th>\n",
       "      <th>note_img</th>\n",
       "    </tr>\n",
       "  </thead>\n",
       "  <tbody>\n",
       "    <tr>\n",
       "      <th>149</th>\n",
       "      <td>fruits, vegetables and nuts</td>\n",
       "      <td>Fruity notes beyond citrus (which form a class...</td>\n",
       "      <td>hog plum</td>\n",
       "      <td>https://fimgs.net/mdimg/sastojci/m.782.jpg?173...</td>\n",
       "    </tr>\n",
       "    <tr>\n",
       "      <th>711</th>\n",
       "      <td>greens, herbs and fougeres</td>\n",
       "      <td>By the term \"green\" we refer to notes of snapp...</td>\n",
       "      <td>ivy</td>\n",
       "      <td>https://fimgs.net/mdimg/sastojci/m.192.jpg?173...</td>\n",
       "    </tr>\n",
       "    <tr>\n",
       "      <th>224</th>\n",
       "      <td>fruits, vegetables and nuts</td>\n",
       "      <td>Fruity notes beyond citrus (which form a class...</td>\n",
       "      <td>shea butter</td>\n",
       "      <td>https://fimgs.net/mdimg/sastojci/m.1142.jpg?17...</td>\n",
       "    </tr>\n",
       "    <tr>\n",
       "      <th>1318</th>\n",
       "      <td>beverages</td>\n",
       "      <td>Fragrances often recreate the scent of popular...</td>\n",
       "      <td>blackcurrant juice</td>\n",
       "      <td>https://fimgs.net/mdimg/sastojci/m.1750.jpg?17...</td>\n",
       "    </tr>\n",
       "    <tr>\n",
       "      <th>69</th>\n",
       "      <td>fruits, vegetables and nuts</td>\n",
       "      <td>Fruity notes beyond citrus (which form a class...</td>\n",
       "      <td>bearberry</td>\n",
       "      <td>https://fimgs.net/mdimg/sastojci/m.344.jpg?173...</td>\n",
       "    </tr>\n",
       "  </tbody>\n",
       "</table>\n",
       "</div>"
      ],
      "text/plain": [
       "                       note_group  \\\n",
       "149   fruits, vegetables and nuts   \n",
       "711    greens, herbs and fougeres   \n",
       "224   fruits, vegetables and nuts   \n",
       "1318                    beverages   \n",
       "69    fruits, vegetables and nuts   \n",
       "\n",
       "                                      group_description                note  \\\n",
       "149   Fruity notes beyond citrus (which form a class...            hog plum   \n",
       "711   By the term \"green\" we refer to notes of snapp...                 ivy   \n",
       "224   Fruity notes beyond citrus (which form a class...         shea butter   \n",
       "1318  Fragrances often recreate the scent of popular...  blackcurrant juice   \n",
       "69    Fruity notes beyond citrus (which form a class...           bearberry   \n",
       "\n",
       "                                               note_img  \n",
       "149   https://fimgs.net/mdimg/sastojci/m.782.jpg?173...  \n",
       "711   https://fimgs.net/mdimg/sastojci/m.192.jpg?173...  \n",
       "224   https://fimgs.net/mdimg/sastojci/m.1142.jpg?17...  \n",
       "1318  https://fimgs.net/mdimg/sastojci/m.1750.jpg?17...  \n",
       "69    https://fimgs.net/mdimg/sastojci/m.344.jpg?173...  "
      ]
     },
     "execution_count": 10,
     "metadata": {},
     "output_type": "execute_result"
    }
   ],
   "source": [
    "notes_df = pd.DataFrame(data=notes, columns=['note_group','group_description','note','note_img'])\n",
    "notes_df.sample(5)"
   ]
  },
  {
   "cell_type": "code",
   "execution_count": 11,
   "id": "august-yorkshire",
   "metadata": {},
   "outputs": [],
   "source": [
    "notes_df.to_csv(\"notes.csv\")"
   ]
  },
  {
   "cell_type": "markdown",
   "id": "c35c9eab",
   "metadata": {},
   "source": [
    "# Scraping descriptions from FindAScent"
   ]
  },
  {
   "cell_type": "code",
   "execution_count": null,
   "id": "7e708c7a",
   "metadata": {},
   "outputs": [],
   "source": [
    "# In this cell we search FindAScent.com's perfume notes,\n",
    "# which are organized alphabetically in different pages,\n",
    "# and dump the htmls in a list to parse through later.\n",
    "\n",
    "from string import ascii_lowercase\n",
    "service = Service(GeckoDriverManager().install())\n",
    "\n",
    "# List to hold html's\n",
    "soups = []\n",
    "\n",
    "# Loop through perfume note pages alphabetically\n",
    "# and save html to soups list\n",
    "for char in ascii_lowercase:\n",
    "    if char in ['x','z']:   # no notes for x or z\n",
    "        continue\n",
    "    with Browser(\"firefox\", service=service, headless=False) as browser:\n",
    "        browser.visit(f\"https://www.findascent.com/notes/{char}/\")\n",
    "        html = browser.html\n",
    "        soup = BeautifulSoup(html, \"html.parser\")\n",
    "        soups.append(soup)"
   ]
  },
  {
   "cell_type": "code",
   "execution_count": null,
   "id": "805d887d",
   "metadata": {},
   "outputs": [],
   "source": [
    "# In this cell we gather the note names and descriptions\n",
    "# from the the list of htmls we gathered\n",
    "\n",
    "# Create dataframe to hold scraped info\n",
    "notes_and_descs = pd.DataFrame(columns=['note','desc'])\n",
    "\n",
    "# Gather perfume note names and short descriptions from the htmls\n",
    "# and add them to dataframe\n",
    "for soup in soups:\n",
    "    names = [tag.text for tag in soup.find_all('div',class_=\"fbox-content px-0\") ]\n",
    "    descs = [tag.text for tag in soup.find_all('div',class_='description') ]\n",
    "    for name, desc in zip(names,descs):\n",
    "        notes_and_descs = pd.concat([pd.DataFrame([[name,desc]], columns=notes_and_descs.columns), notes_and_descs], ignore_index=True)"
   ]
  },
  {
   "cell_type": "code",
   "execution_count": null,
   "id": "4acda688",
   "metadata": {},
   "outputs": [],
   "source": [
    "names = [tag.text for tag in soup.find_all('div',class_=\"fbox-content px-0\") ]\n",
    "names = map(str.lower,names)\n",
    "names = list(map(lambda x : x.replace(' ','-'), names))\n",
    "char = names[0][0]\n",
    "for name in names:\n",
    "    with Browser(\"firefox\", service=service, headless=False) as browser:\n",
    "        browser.visit(f\"https://www.findascent.com/notes/{char}/{name}.php\")\n",
    "        html = browser.html\n",
    "        soup = BeautifulSoup(html, \"html.parser\")\n",
    "        soups.append(soup)"
   ]
  },
  {
   "cell_type": "code",
   "execution_count": null,
   "id": "25f0387e",
   "metadata": {},
   "outputs": [],
   "source": [
    "# Here we use the perfume note names we already got\n",
    "# and go to their individual pages to get longer descriptions\n",
    "\n",
    "# list of scraped perfume note names\n",
    "names = list(notes_and_descs['note'].values)\n",
    "\n",
    "\n",
    "for name in names:\n",
    "    formatted_name = name.lower().replace(' ','-')  # reformat for http\n",
    "    char = formatted_name[0]\n",
    "    with Browser(\"firefox\", service=service, headless=True) as browser:\n",
    "        browser.visit(f'https://www.findascent.com/notes/{char}/{formatted_name}.php')\n",
    "        html = browser.html\n",
    "        soup = BeautifulSoup(html, \"html.parser\")\n",
    "        desc = soup.find('p').text\n",
    "        notes_and_descs = pd.concat([pd.DataFrame([[name,desc]], columns=notes_and_descs.columns), notes_and_descs], ignore_index=True)"
   ]
  },
  {
   "cell_type": "code",
   "execution_count": 80,
   "id": "e79e6099",
   "metadata": {},
   "outputs": [
    {
     "data": {
      "text/html": [
       "<div>\n",
       "<style scoped>\n",
       "    .dataframe tbody tr th:only-of-type {\n",
       "        vertical-align: middle;\n",
       "    }\n",
       "\n",
       "    .dataframe tbody tr th {\n",
       "        vertical-align: top;\n",
       "    }\n",
       "\n",
       "    .dataframe thead th {\n",
       "        text-align: right;\n",
       "    }\n",
       "</style>\n",
       "<table border=\"1\" class=\"dataframe\">\n",
       "  <thead>\n",
       "    <tr style=\"text-align: right;\">\n",
       "      <th></th>\n",
       "      <th>note</th>\n",
       "      <th>desc</th>\n",
       "    </tr>\n",
       "  </thead>\n",
       "  <tbody>\n",
       "    <tr>\n",
       "      <th>0</th>\n",
       "      <td>Absinthe</td>\n",
       "      <td>Absinthe, often characterized by its green hue...</td>\n",
       "    </tr>\n",
       "    <tr>\n",
       "      <th>1</th>\n",
       "      <td>Acacia Honey</td>\n",
       "      <td>Acacia Honey, often derived from the blossoms ...</td>\n",
       "    </tr>\n",
       "    <tr>\n",
       "      <th>2</th>\n",
       "      <td>Acai Berry</td>\n",
       "      <td>Acai Berry, derived from the Acai palm tree na...</td>\n",
       "    </tr>\n",
       "    <tr>\n",
       "      <th>3</th>\n",
       "      <td>Acajou Wood</td>\n",
       "      <td>Acajou Wood, also known as African Mahogany (K...</td>\n",
       "    </tr>\n",
       "    <tr>\n",
       "      <th>4</th>\n",
       "      <td>Adoxal</td>\n",
       "      <td>Adoxal is a synthetic compound widely utilized...</td>\n",
       "    </tr>\n",
       "    <tr>\n",
       "      <th>...</th>\n",
       "      <td>...</td>\n",
       "      <td>...</td>\n",
       "    </tr>\n",
       "    <tr>\n",
       "      <th>1799</th>\n",
       "      <td>Adoxal</td>\n",
       "      <td>Adoxal infuses fragrances with a fresh, oceani...</td>\n",
       "    </tr>\n",
       "    <tr>\n",
       "      <th>1800</th>\n",
       "      <td>Acajou Wood</td>\n",
       "      <td>Acajou Wood, or African Mahogany, enriches fra...</td>\n",
       "    </tr>\n",
       "    <tr>\n",
       "      <th>1801</th>\n",
       "      <td>Acai Berry</td>\n",
       "      <td>Acai Berry adds a sweet, exotic, and vibrant f...</td>\n",
       "    </tr>\n",
       "    <tr>\n",
       "      <th>1802</th>\n",
       "      <td>Acacia Honey</td>\n",
       "      <td>Acacia Honey provides a sweet, floral, and war...</td>\n",
       "    </tr>\n",
       "    <tr>\n",
       "      <th>1803</th>\n",
       "      <td>Absinthe</td>\n",
       "      <td>Absinthe in perfumery brings a bold, herbal, a...</td>\n",
       "    </tr>\n",
       "  </tbody>\n",
       "</table>\n",
       "<p>1804 rows × 2 columns</p>\n",
       "</div>"
      ],
      "text/plain": [
       "              note                                               desc\n",
       "0         Absinthe  Absinthe, often characterized by its green hue...\n",
       "1     Acacia Honey  Acacia Honey, often derived from the blossoms ...\n",
       "2       Acai Berry  Acai Berry, derived from the Acai palm tree na...\n",
       "3      Acajou Wood  Acajou Wood, also known as African Mahogany (K...\n",
       "4           Adoxal  Adoxal is a synthetic compound widely utilized...\n",
       "...            ...                                                ...\n",
       "1799        Adoxal  Adoxal infuses fragrances with a fresh, oceani...\n",
       "1800   Acajou Wood  Acajou Wood, or African Mahogany, enriches fra...\n",
       "1801    Acai Berry  Acai Berry adds a sweet, exotic, and vibrant f...\n",
       "1802  Acacia Honey  Acacia Honey provides a sweet, floral, and war...\n",
       "1803      Absinthe  Absinthe in perfumery brings a bold, herbal, a...\n",
       "\n",
       "[1804 rows x 2 columns]"
      ]
     },
     "execution_count": 80,
     "metadata": {},
     "output_type": "execute_result"
    }
   ],
   "source": [
    "notes_and_descs"
   ]
  },
  {
   "cell_type": "code",
   "execution_count": 81,
   "id": "d6635257",
   "metadata": {},
   "outputs": [],
   "source": [
    "notes_and_descs.to_csv('findascent_note_descriptions.csv')"
   ]
  }
 ],
 "metadata": {
  "kernelspec": {
   "display_name": "web_scrape",
   "language": "python",
   "name": "python3"
  },
  "language_info": {
   "codemirror_mode": {
    "name": "ipython",
    "version": 3
   },
   "file_extension": ".py",
   "mimetype": "text/x-python",
   "name": "python",
   "nbconvert_exporter": "python",
   "pygments_lexer": "ipython3",
   "version": "3.11.13"
  }
 },
 "nbformat": 4,
 "nbformat_minor": 5
}
